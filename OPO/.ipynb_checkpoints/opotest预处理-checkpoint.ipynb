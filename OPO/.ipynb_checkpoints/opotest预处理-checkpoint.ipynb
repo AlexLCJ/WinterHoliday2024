{
 "cells": [
  {
   "cell_type": "code",
   "execution_count": 1,
   "id": "initial_id",
   "metadata": {
    "is_executing": true
   },
   "outputs": [],
   "source": [
    "import pandas as pd\n",
    "import matplotlib.pyplot as plt\n",
    "from pyecharts.charts import Bar, Line, Pie\n",
    "from pyecharts import options as opts\n",
    "plt.rcParams['font.sans-serif'] = ['Microsoft YaHei']"
   ]
  },
  {
   "cell_type": "code",
   "execution_count": 2,
   "id": "93c19efd8855c8c2",
   "metadata": {
    "ExecuteTime": {
     "end_time": "2024-01-29T10:16:17.004629500Z",
     "start_time": "2024-01-29T10:16:16.878355300Z"
    }
   },
   "outputs": [
    {
     "data": {
      "text/html": [
       "<div>\n",
       "<style scoped>\n",
       "    .dataframe tbody tr th:only-of-type {\n",
       "        vertical-align: middle;\n",
       "    }\n",
       "\n",
       "    .dataframe tbody tr th {\n",
       "        vertical-align: top;\n",
       "    }\n",
       "\n",
       "    .dataframe thead th {\n",
       "        text-align: right;\n",
       "    }\n",
       "</style>\n",
       "<table border=\"1\" class=\"dataframe\">\n",
       "  <thead>\n",
       "    <tr style=\"text-align: right;\">\n",
       "      <th></th>\n",
       "      <th>User_id</th>\n",
       "      <th>Merchant_id</th>\n",
       "      <th>Coupon_id</th>\n",
       "      <th>Discount_rate</th>\n",
       "      <th>Distance</th>\n",
       "      <th>Date_received</th>\n",
       "    </tr>\n",
       "  </thead>\n",
       "  <tbody>\n",
       "    <tr>\n",
       "      <th>0</th>\n",
       "      <td>4129537</td>\n",
       "      <td>450</td>\n",
       "      <td>9983</td>\n",
       "      <td>30:5</td>\n",
       "      <td>1.0</td>\n",
       "      <td>20160712</td>\n",
       "    </tr>\n",
       "    <tr>\n",
       "      <th>1</th>\n",
       "      <td>6949378</td>\n",
       "      <td>1300</td>\n",
       "      <td>3429</td>\n",
       "      <td>30:5</td>\n",
       "      <td>NaN</td>\n",
       "      <td>20160706</td>\n",
       "    </tr>\n",
       "    <tr>\n",
       "      <th>2</th>\n",
       "      <td>2166529</td>\n",
       "      <td>7113</td>\n",
       "      <td>6928</td>\n",
       "      <td>200:20</td>\n",
       "      <td>5.0</td>\n",
       "      <td>20160727</td>\n",
       "    </tr>\n",
       "    <tr>\n",
       "      <th>3</th>\n",
       "      <td>2166529</td>\n",
       "      <td>7113</td>\n",
       "      <td>1808</td>\n",
       "      <td>100:10</td>\n",
       "      <td>5.0</td>\n",
       "      <td>20160727</td>\n",
       "    </tr>\n",
       "    <tr>\n",
       "      <th>4</th>\n",
       "      <td>6172162</td>\n",
       "      <td>7605</td>\n",
       "      <td>6500</td>\n",
       "      <td>30:1</td>\n",
       "      <td>2.0</td>\n",
       "      <td>20160708</td>\n",
       "    </tr>\n",
       "    <tr>\n",
       "      <th>...</th>\n",
       "      <td>...</td>\n",
       "      <td>...</td>\n",
       "      <td>...</td>\n",
       "      <td>...</td>\n",
       "      <td>...</td>\n",
       "      <td>...</td>\n",
       "    </tr>\n",
       "    <tr>\n",
       "      <th>113635</th>\n",
       "      <td>5828093</td>\n",
       "      <td>5717</td>\n",
       "      <td>10418</td>\n",
       "      <td>30:5</td>\n",
       "      <td>10.0</td>\n",
       "      <td>20160716</td>\n",
       "    </tr>\n",
       "    <tr>\n",
       "      <th>113636</th>\n",
       "      <td>6626813</td>\n",
       "      <td>1699</td>\n",
       "      <td>7595</td>\n",
       "      <td>30:1</td>\n",
       "      <td>NaN</td>\n",
       "      <td>20160707</td>\n",
       "    </tr>\n",
       "    <tr>\n",
       "      <th>113637</th>\n",
       "      <td>6626813</td>\n",
       "      <td>7321</td>\n",
       "      <td>7590</td>\n",
       "      <td>50:5</td>\n",
       "      <td>NaN</td>\n",
       "      <td>20160712</td>\n",
       "    </tr>\n",
       "    <tr>\n",
       "      <th>113638</th>\n",
       "      <td>4547069</td>\n",
       "      <td>760</td>\n",
       "      <td>13602</td>\n",
       "      <td>30:5</td>\n",
       "      <td>0.0</td>\n",
       "      <td>20160717</td>\n",
       "    </tr>\n",
       "    <tr>\n",
       "      <th>113639</th>\n",
       "      <td>6675965</td>\n",
       "      <td>7487</td>\n",
       "      <td>613</td>\n",
       "      <td>20:1</td>\n",
       "      <td>5.0</td>\n",
       "      <td>20160728</td>\n",
       "    </tr>\n",
       "  </tbody>\n",
       "</table>\n",
       "<p>113640 rows × 6 columns</p>\n",
       "</div>"
      ],
      "text/plain": [
       "        User_id  Merchant_id  Coupon_id Discount_rate  Distance  Date_received\n",
       "0       4129537          450       9983          30:5       1.0       20160712\n",
       "1       6949378         1300       3429          30:5       NaN       20160706\n",
       "2       2166529         7113       6928        200:20       5.0       20160727\n",
       "3       2166529         7113       1808        100:10       5.0       20160727\n",
       "4       6172162         7605       6500          30:1       2.0       20160708\n",
       "...         ...          ...        ...           ...       ...            ...\n",
       "113635  5828093         5717      10418          30:5      10.0       20160716\n",
       "113636  6626813         1699       7595          30:1       NaN       20160707\n",
       "113637  6626813         7321       7590          50:5       NaN       20160712\n",
       "113638  4547069          760      13602          30:5       0.0       20160717\n",
       "113639  6675965         7487        613          20:1       5.0       20160728\n",
       "\n",
       "[113640 rows x 6 columns]"
      ]
     },
     "execution_count": 2,
     "metadata": {},
     "output_type": "execute_result"
    }
   ],
   "source": [
    "data=pd.read_csv(\"C:\\\\Users\\\\李昌峻\\Desktop\\ccf_offline_stage1_test_revised.csv\")\n",
    "offline=data.copy()\n",
    "offline"
   ]
  },
  {
   "cell_type": "code",
   "execution_count": 3,
   "id": "8bace65fcf206d84",
   "metadata": {
    "ExecuteTime": {
     "end_time": "2024-01-29T10:16:22.508674200Z",
     "start_time": "2024-01-29T10:16:22.477377100Z"
    }
   },
   "outputs": [
    {
     "data": {
      "text/html": [
       "<div>\n",
       "<style scoped>\n",
       "    .dataframe tbody tr th:only-of-type {\n",
       "        vertical-align: middle;\n",
       "    }\n",
       "\n",
       "    .dataframe tbody tr th {\n",
       "        vertical-align: top;\n",
       "    }\n",
       "\n",
       "    .dataframe thead th {\n",
       "        text-align: right;\n",
       "    }\n",
       "</style>\n",
       "<table border=\"1\" class=\"dataframe\">\n",
       "  <thead>\n",
       "    <tr style=\"text-align: right;\">\n",
       "      <th></th>\n",
       "      <th>User_id</th>\n",
       "      <th>Merchant_id</th>\n",
       "      <th>Coupon_id</th>\n",
       "      <th>Discount_rate</th>\n",
       "      <th>Distance</th>\n",
       "      <th>Date_received</th>\n",
       "    </tr>\n",
       "  </thead>\n",
       "  <tbody>\n",
       "    <tr>\n",
       "      <th>0</th>\n",
       "      <td>4129537</td>\n",
       "      <td>450</td>\n",
       "      <td>9983</td>\n",
       "      <td>30:5</td>\n",
       "      <td>1</td>\n",
       "      <td>20160712</td>\n",
       "    </tr>\n",
       "    <tr>\n",
       "      <th>1</th>\n",
       "      <td>6949378</td>\n",
       "      <td>1300</td>\n",
       "      <td>3429</td>\n",
       "      <td>30:5</td>\n",
       "      <td>-1</td>\n",
       "      <td>20160706</td>\n",
       "    </tr>\n",
       "    <tr>\n",
       "      <th>2</th>\n",
       "      <td>2166529</td>\n",
       "      <td>7113</td>\n",
       "      <td>6928</td>\n",
       "      <td>200:20</td>\n",
       "      <td>5</td>\n",
       "      <td>20160727</td>\n",
       "    </tr>\n",
       "    <tr>\n",
       "      <th>3</th>\n",
       "      <td>2166529</td>\n",
       "      <td>7113</td>\n",
       "      <td>1808</td>\n",
       "      <td>100:10</td>\n",
       "      <td>5</td>\n",
       "      <td>20160727</td>\n",
       "    </tr>\n",
       "    <tr>\n",
       "      <th>4</th>\n",
       "      <td>6172162</td>\n",
       "      <td>7605</td>\n",
       "      <td>6500</td>\n",
       "      <td>30:1</td>\n",
       "      <td>2</td>\n",
       "      <td>20160708</td>\n",
       "    </tr>\n",
       "    <tr>\n",
       "      <th>...</th>\n",
       "      <td>...</td>\n",
       "      <td>...</td>\n",
       "      <td>...</td>\n",
       "      <td>...</td>\n",
       "      <td>...</td>\n",
       "      <td>...</td>\n",
       "    </tr>\n",
       "    <tr>\n",
       "      <th>113635</th>\n",
       "      <td>5828093</td>\n",
       "      <td>5717</td>\n",
       "      <td>10418</td>\n",
       "      <td>30:5</td>\n",
       "      <td>10</td>\n",
       "      <td>20160716</td>\n",
       "    </tr>\n",
       "    <tr>\n",
       "      <th>113636</th>\n",
       "      <td>6626813</td>\n",
       "      <td>1699</td>\n",
       "      <td>7595</td>\n",
       "      <td>30:1</td>\n",
       "      <td>-1</td>\n",
       "      <td>20160707</td>\n",
       "    </tr>\n",
       "    <tr>\n",
       "      <th>113637</th>\n",
       "      <td>6626813</td>\n",
       "      <td>7321</td>\n",
       "      <td>7590</td>\n",
       "      <td>50:5</td>\n",
       "      <td>-1</td>\n",
       "      <td>20160712</td>\n",
       "    </tr>\n",
       "    <tr>\n",
       "      <th>113638</th>\n",
       "      <td>4547069</td>\n",
       "      <td>760</td>\n",
       "      <td>13602</td>\n",
       "      <td>30:5</td>\n",
       "      <td>0</td>\n",
       "      <td>20160717</td>\n",
       "    </tr>\n",
       "    <tr>\n",
       "      <th>113639</th>\n",
       "      <td>6675965</td>\n",
       "      <td>7487</td>\n",
       "      <td>613</td>\n",
       "      <td>20:1</td>\n",
       "      <td>5</td>\n",
       "      <td>20160728</td>\n",
       "    </tr>\n",
       "  </tbody>\n",
       "</table>\n",
       "<p>113640 rows × 6 columns</p>\n",
       "</div>"
      ],
      "text/plain": [
       "        User_id  Merchant_id  Coupon_id Discount_rate  Distance  Date_received\n",
       "0       4129537          450       9983          30:5         1       20160712\n",
       "1       6949378         1300       3429          30:5        -1       20160706\n",
       "2       2166529         7113       6928        200:20         5       20160727\n",
       "3       2166529         7113       1808        100:10         5       20160727\n",
       "4       6172162         7605       6500          30:1         2       20160708\n",
       "...         ...          ...        ...           ...       ...            ...\n",
       "113635  5828093         5717      10418          30:5        10       20160716\n",
       "113636  6626813         1699       7595          30:1        -1       20160707\n",
       "113637  6626813         7321       7590          50:5        -1       20160712\n",
       "113638  4547069          760      13602          30:5         0       20160717\n",
       "113639  6675965         7487        613          20:1         5       20160728\n",
       "\n",
       "[113640 rows x 6 columns]"
      ]
     },
     "execution_count": 3,
     "metadata": {},
     "output_type": "execute_result"
    }
   ],
   "source": [
    "offline['Distance'].fillna(-1, downcast='infer', inplace=True)\n",
    "offline"
   ]
  },
  {
   "cell_type": "code",
   "execution_count": 5,
   "id": "722b3c323a90c71f",
   "metadata": {
    "ExecuteTime": {
     "end_time": "2024-01-29T10:16:24.854371300Z",
     "start_time": "2024-01-29T10:16:24.550196500Z"
    }
   },
   "outputs": [
    {
     "data": {
      "text/html": [
       "<div>\n",
       "<style scoped>\n",
       "    .dataframe tbody tr th:only-of-type {\n",
       "        vertical-align: middle;\n",
       "    }\n",
       "\n",
       "    .dataframe tbody tr th {\n",
       "        vertical-align: top;\n",
       "    }\n",
       "\n",
       "    .dataframe thead th {\n",
       "        text-align: right;\n",
       "    }\n",
       "</style>\n",
       "<table border=\"1\" class=\"dataframe\">\n",
       "  <thead>\n",
       "    <tr style=\"text-align: right;\">\n",
       "      <th></th>\n",
       "      <th>User_id</th>\n",
       "      <th>Merchant_id</th>\n",
       "      <th>Coupon_id</th>\n",
       "      <th>Discount_rate</th>\n",
       "      <th>Distance</th>\n",
       "      <th>Date_received</th>\n",
       "      <th>date_received</th>\n",
       "      <th>discount_rate</th>\n",
       "      <th>is_manjian</th>\n",
       "    </tr>\n",
       "  </thead>\n",
       "  <tbody>\n",
       "    <tr>\n",
       "      <th>0</th>\n",
       "      <td>4129537</td>\n",
       "      <td>450</td>\n",
       "      <td>9983</td>\n",
       "      <td>30:5</td>\n",
       "      <td>1</td>\n",
       "      <td>20160712</td>\n",
       "      <td>2016-07-12</td>\n",
       "      <td>0.833333</td>\n",
       "      <td>1</td>\n",
       "    </tr>\n",
       "    <tr>\n",
       "      <th>1</th>\n",
       "      <td>6949378</td>\n",
       "      <td>1300</td>\n",
       "      <td>3429</td>\n",
       "      <td>30:5</td>\n",
       "      <td>-1</td>\n",
       "      <td>20160706</td>\n",
       "      <td>2016-07-06</td>\n",
       "      <td>0.833333</td>\n",
       "      <td>1</td>\n",
       "    </tr>\n",
       "    <tr>\n",
       "      <th>2</th>\n",
       "      <td>2166529</td>\n",
       "      <td>7113</td>\n",
       "      <td>6928</td>\n",
       "      <td>200:20</td>\n",
       "      <td>5</td>\n",
       "      <td>20160727</td>\n",
       "      <td>2016-07-27</td>\n",
       "      <td>0.900000</td>\n",
       "      <td>1</td>\n",
       "    </tr>\n",
       "    <tr>\n",
       "      <th>3</th>\n",
       "      <td>2166529</td>\n",
       "      <td>7113</td>\n",
       "      <td>1808</td>\n",
       "      <td>100:10</td>\n",
       "      <td>5</td>\n",
       "      <td>20160727</td>\n",
       "      <td>2016-07-27</td>\n",
       "      <td>0.900000</td>\n",
       "      <td>1</td>\n",
       "    </tr>\n",
       "    <tr>\n",
       "      <th>4</th>\n",
       "      <td>6172162</td>\n",
       "      <td>7605</td>\n",
       "      <td>6500</td>\n",
       "      <td>30:1</td>\n",
       "      <td>2</td>\n",
       "      <td>20160708</td>\n",
       "      <td>2016-07-08</td>\n",
       "      <td>0.966667</td>\n",
       "      <td>1</td>\n",
       "    </tr>\n",
       "    <tr>\n",
       "      <th>...</th>\n",
       "      <td>...</td>\n",
       "      <td>...</td>\n",
       "      <td>...</td>\n",
       "      <td>...</td>\n",
       "      <td>...</td>\n",
       "      <td>...</td>\n",
       "      <td>...</td>\n",
       "      <td>...</td>\n",
       "      <td>...</td>\n",
       "    </tr>\n",
       "    <tr>\n",
       "      <th>113635</th>\n",
       "      <td>5828093</td>\n",
       "      <td>5717</td>\n",
       "      <td>10418</td>\n",
       "      <td>30:5</td>\n",
       "      <td>10</td>\n",
       "      <td>20160716</td>\n",
       "      <td>2016-07-16</td>\n",
       "      <td>0.833333</td>\n",
       "      <td>1</td>\n",
       "    </tr>\n",
       "    <tr>\n",
       "      <th>113636</th>\n",
       "      <td>6626813</td>\n",
       "      <td>1699</td>\n",
       "      <td>7595</td>\n",
       "      <td>30:1</td>\n",
       "      <td>-1</td>\n",
       "      <td>20160707</td>\n",
       "      <td>2016-07-07</td>\n",
       "      <td>0.966667</td>\n",
       "      <td>1</td>\n",
       "    </tr>\n",
       "    <tr>\n",
       "      <th>113637</th>\n",
       "      <td>6626813</td>\n",
       "      <td>7321</td>\n",
       "      <td>7590</td>\n",
       "      <td>50:5</td>\n",
       "      <td>-1</td>\n",
       "      <td>20160712</td>\n",
       "      <td>2016-07-12</td>\n",
       "      <td>0.900000</td>\n",
       "      <td>1</td>\n",
       "    </tr>\n",
       "    <tr>\n",
       "      <th>113638</th>\n",
       "      <td>4547069</td>\n",
       "      <td>760</td>\n",
       "      <td>13602</td>\n",
       "      <td>30:5</td>\n",
       "      <td>0</td>\n",
       "      <td>20160717</td>\n",
       "      <td>2016-07-17</td>\n",
       "      <td>0.833333</td>\n",
       "      <td>1</td>\n",
       "    </tr>\n",
       "    <tr>\n",
       "      <th>113639</th>\n",
       "      <td>6675965</td>\n",
       "      <td>7487</td>\n",
       "      <td>613</td>\n",
       "      <td>20:1</td>\n",
       "      <td>5</td>\n",
       "      <td>20160728</td>\n",
       "      <td>2016-07-28</td>\n",
       "      <td>0.950000</td>\n",
       "      <td>1</td>\n",
       "    </tr>\n",
       "  </tbody>\n",
       "</table>\n",
       "<p>113640 rows × 9 columns</p>\n",
       "</div>"
      ],
      "text/plain": [
       "        User_id  Merchant_id  Coupon_id Discount_rate  Distance  \\\n",
       "0       4129537          450       9983          30:5         1   \n",
       "1       6949378         1300       3429          30:5        -1   \n",
       "2       2166529         7113       6928        200:20         5   \n",
       "3       2166529         7113       1808        100:10         5   \n",
       "4       6172162         7605       6500          30:1         2   \n",
       "...         ...          ...        ...           ...       ...   \n",
       "113635  5828093         5717      10418          30:5        10   \n",
       "113636  6626813         1699       7595          30:1        -1   \n",
       "113637  6626813         7321       7590          50:5        -1   \n",
       "113638  4547069          760      13602          30:5         0   \n",
       "113639  6675965         7487        613          20:1         5   \n",
       "\n",
       "        Date_received date_received  discount_rate  is_manjian  \n",
       "0            20160712    2016-07-12       0.833333           1  \n",
       "1            20160706    2016-07-06       0.833333           1  \n",
       "2            20160727    2016-07-27       0.900000           1  \n",
       "3            20160727    2016-07-27       0.900000           1  \n",
       "4            20160708    2016-07-08       0.966667           1  \n",
       "...               ...           ...            ...         ...  \n",
       "113635       20160716    2016-07-16       0.833333           1  \n",
       "113636       20160707    2016-07-07       0.966667           1  \n",
       "113637       20160712    2016-07-12       0.900000           1  \n",
       "113638       20160717    2016-07-17       0.833333           1  \n",
       "113639       20160728    2016-07-28       0.950000           1  \n",
       "\n",
       "[113640 rows x 9 columns]"
      ]
     },
     "execution_count": 5,
     "metadata": {},
     "output_type": "execute_result"
    }
   ],
   "source": [
    "offline['date_received'] = pd.to_datetime(offline['Date_received'], format='%Y%m%d')\n",
    "# offline['date'] = pd.to_datetime(offline['Date'], format='%Y%m%d')\n",
    "offline['discount_rate'] = offline['Discount_rate'].map(lambda x: float(x) if ':' not in str(x) else\n",
    "    (float(str(x).split(':')[0]) - float(str(x).split(':')[1])) / float(str(x).split(':')[0]))\n",
    "offline['is_manjian'] = offline['Discount_rate'].map(lambda x: 1 if ':' in str(x) else 0)\n",
    "offline['Distance'].fillna(-1, downcast='infer', inplace=True)\n",
    "offline"
   ]
  },
  {
   "cell_type": "code",
   "execution_count": 30,
   "id": "7d9c1e05ebdd007",
   "metadata": {
    "ExecuteTime": {
     "end_time": "2024-01-29T10:16:26.885047100Z",
     "start_time": "2024-01-29T10:16:26.869240800Z"
    }
   },
   "outputs": [
    {
     "data": {
      "text/plain": [
       "User_id          False\n",
       "Merchant_id      False\n",
       "Coupon_id        False\n",
       "Discount_rate    False\n",
       "Distance         False\n",
       "Date_received    False\n",
       "date_received    False\n",
       "discount_rate    False\n",
       "is_manjian       False\n",
       "dtype: bool"
      ]
     },
     "execution_count": 30,
     "metadata": {},
     "output_type": "execute_result"
    }
   ],
   "source": [
    "offline.isnull().any()"
   ]
  },
  {
   "cell_type": "markdown",
   "id": "e65e6bbcb90d69a",
   "metadata": {},
   "source": [
    "### 数据大致分析"
   ]
  },
  {
   "cell_type": "code",
   "execution_count": 47,
   "id": "27d94e218fae298d",
   "metadata": {
    "ExecuteTime": {
     "end_time": "2024-01-29T10:22:26.063622600Z",
     "start_time": "2024-01-29T10:22:26.016697900Z"
    }
   },
   "outputs": [
    {
     "name": "stdout",
     "output_type": "stream",
     "text": [
      "总数据： 113640 条\n",
      "优惠券领取数量： 113640 张\n",
      "优惠券种类 2050 种\n",
      "用户数量 76309 位\n",
      "商家数量 1559 家\n",
      "最早领卷 2016-07-01 00:00:00\n",
      "最晚领卷 2016-07-31 00:00:00\n",
      "列 'Date_received' 中没有缺失值。\n",
      "列 'Coupon_id' 中没有缺失值。\n",
      "列 'Merchant_id' 中没有缺失值。\n",
      "列 'User_id' 中没有缺失值。\n",
      "列 'Distance' 中有 12064 个缺失值。\n",
      "列 'Discount_rate' 中没有缺失值。\n"
     ]
    }
   ],
   "source": [
    "sum = data.shape[0]\n",
    "print(f'总数据：', sum, '条')\n",
    "\n",
    "    # 共有多少条优惠券的领取记录\n",
    "received_count = data['Date_received'].count()\n",
    "print('优惠券领取数量：', received_count, '张')\n",
    "\n",
    "    # 共有多少种不同的优惠券\n",
    "diff_kinds = len(data['Coupon_id'].value_counts())\n",
    "print('优惠券种类', diff_kinds, '种')\n",
    "\n",
    "# 共有多少个用户\n",
    "users_num = len(data['User_id'].value_counts())\n",
    "print('用户数量', users_num, '位')\n",
    "\n",
    "# 共有多少个商家\n",
    "merchant_num = len(data['Merchant_id'].value_counts())\n",
    "print('商家数量', merchant_num, '家')\n",
    "\n",
    "# 最早领券时间\n",
    "min_received = str(int(data['Date_received'].min()))\n",
    "# 最晚领券时间\n",
    "max_received = str(int(data['Date_received'].max()))\n",
    "    #转化为时间模式\n",
    "min_received=pd.to_datetime(min_received)\n",
    "max_received=pd.to_datetime(max_received)\n",
    "\n",
    "print('最早领卷', min_received)\n",
    "print('最晚领卷', max_received)\n",
    "\n",
    "columns_to_check = ['Date_received', 'Coupon_id', 'Merchant_id', 'User_id', 'Distance', 'Discount_rate']\n",
    "\n",
    "for column_to_check in columns_to_check:\n",
    "    missing_values = data[column_to_check].isnull().sum()\n",
    "    if missing_values > 0:\n",
    "        print(f\"列 '{column_to_check}' 中有 {missing_values} 个缺失值。\")\n",
    "    else:\n",
    "        print(f\"列 '{column_to_check}' 中没有缺失值。\")"
   ]
  },
  {
   "cell_type": "code",
   "execution_count": 50,
   "id": "4212edc258d638b4",
   "metadata": {
    "ExecuteTime": {
     "end_time": "2024-01-29T10:48:47.676222Z",
     "start_time": "2024-01-29T10:48:47.634102800Z"
    }
   },
   "outputs": [
    {
     "data": {
      "text/plain": [
       "'C:\\\\Users\\\\李昌峻\\\\Desktop\\\\绘图\\\\课后作业五\\\\bar_1.html'"
      ]
     },
     "execution_count": 50,
     "metadata": {},
     "output_type": "execute_result"
    }
   ],
   "source": [
    "# 每日领取优惠券的分析以及图像绘制\n",
    "df_1 = offline[offline['Date_received'].notna()]\n",
    "tmp = df_1.groupby('Date_received', as_index=False)['Coupon_id'].count()\n",
    "bar_1 = Bar(init_opts=opts.InitOpts(width='1500px', height='600px'))\n",
    "    # 横纵坐标设置\n",
    "axis_x = list(tmp['Date_received'])\n",
    "axis_y = list(tmp['Coupon_id'])\n",
    "    # set\n",
    "bar_1.add_xaxis(axis_x)\n",
    "bar_1.add_yaxis(\"领取数量\", axis_y)\n",
    "bar_1.set_series_opts(markline_opts=opts.MarkLineOpts(data=[opts.MarkLineItem(type_=\"max\")]))\n",
    "bar_1.set_global_opts(\n",
    "    title_opts=opts.TitleOpts(title='每天被领券的数量'),  # title\n",
    "    legend_opts=opts.LegendOpts(is_show=True),  # 显示ToolBox\n",
    "    xaxis_opts=opts.AxisOpts(axislabel_opts=opts.LabelOpts(rotate=60), interval=1),  # 旋转60度\n",
    ")\n",
    "bar_1.render(\"C:\\\\Users\\\\李昌峻\\Desktop\\绘图\\课后作业五\\\\bar_1.html\")"
   ]
  },
  {
   "cell_type": "code",
   "execution_count": null,
   "id": "5f9c66486ac098d6",
   "metadata": {
    "is_executing": true
   },
   "outputs": [],
   "source": [
    "# 处理周几领取优惠券人数\n",
    "    # 添加领券时间为周几\n",
    "offline['weekday_Receive'] = offline['date_received'].apply(lambda x: x.isoweekday())\n",
    "offline    "
   ]
  },
  {
   "cell_type": "code",
   "execution_count": 64,
   "id": "dbc58d2f9a19217d",
   "metadata": {
    "ExecuteTime": {
     "end_time": "2024-01-29T11:05:05.308561600Z",
     "start_time": "2024-01-29T11:05:05.263553Z"
    }
   },
   "outputs": [
    {
     "name": "stdout",
     "output_type": "stream",
     "text": [
      "weekday_Receive\n",
      "1    17672\n",
      "2    16871\n",
      "3    15796\n",
      "4    12839\n",
      "5    15497\n",
      "6    15560\n",
      "7    19405\n",
      "Name: count, dtype: int64\n"
     ]
    },
    {
     "data": {
      "text/plain": [
       "'C:\\\\Users\\\\李昌峻\\\\Desktop\\\\绘图\\\\课后作业五\\\\line_1.html'"
      ]
     },
     "execution_count": 64,
     "metadata": {},
     "output_type": "execute_result"
    }
   ],
   "source": [
    "# 绘图line\n",
    "get_weekdays = offline[offline['weekday_Receive'].notna()]['weekday_Receive'].value_counts()\n",
    "get_weekdays.sort_index(inplace=True)\n",
    "print(get_weekdays)\n",
    "line_1 = (\n",
    "    Line()\n",
    "    .add_xaxis([str(x) for x in range(1, 8)])\n",
    "    .add_yaxis('周几领取', list(get_weekdays))\n",
    "    .set_global_opts(title_opts={'text': '星期领取日'})\n",
    "    .set_series_opts(\n",
    "        opts.LabelOpts(is_show=True)  # 显示值大小\n",
    "    )\n",
    ")\n",
    "line_1.render('C:\\\\Users\\\\李昌峻\\\\Desktop\\\\绘图\\\\课后作业五\\\\line_1.html')"
   ]
  },
  {
   "cell_type": "markdown",
   "id": "1f6c1433a6f66224",
   "metadata": {},
   "source": [
    "### 折扣情况判断"
   ]
  },
  {
   "cell_type": "code",
   "execution_count": 87,
   "id": "74e7c89588e52092",
   "metadata": {
    "ExecuteTime": {
     "end_time": "2024-01-29T11:48:31.529968700Z",
     "start_time": "2024-01-29T11:48:31.496182700Z"
    }
   },
   "outputs": [
    {
     "name": "stdout",
     "output_type": "stream",
     "text": [
      "最低打折 0.99\n",
      "最高打折 0.3333333333333333\n",
      "平均折扣 0.8506708611991083\n"
     ]
    },
    {
     "data": {
      "text/plain": [
       "0         0.833333\n",
       "1         0.833333\n",
       "2         0.900000\n",
       "3         0.900000\n",
       "4         0.966667\n",
       "            ...   \n",
       "113635    0.833333\n",
       "113636    0.966667\n",
       "113637    0.900000\n",
       "113638    0.833333\n",
       "113639    0.950000\n",
       "Name: discount_rate, Length: 113640, dtype: float64"
      ]
     },
     "execution_count": 87,
     "metadata": {},
     "output_type": "execute_result"
    }
   ],
   "source": [
    "# 处理打折情况\n",
    "print(f'最低打折',offline['discount_rate'].max())\n",
    "print(f'最高打折',offline['discount_rate'].min())\n",
    "print(f'平均折扣',offline['discount_rate'].mean())\n",
    "offline['discount_rate']"
   ]
  },
  {
   "cell_type": "code",
   "execution_count": null,
   "id": "17af4ece33f582f4",
   "metadata": {},
   "outputs": [],
   "source": [
    "received = offline[['discount_rate']]\n",
    "received['cnt'] = 1\n",
    "received = received.groupby('discount_rate').agg('sum').reset_index()\n",
    "\n",
    "# 注意这里使用了 received['discount_rate']，确保使用正确的列名\n",
    "discount_rate_x = list(received['discount_rate'])\n",
    "discount_rate_y = list(received['cnt'])\n",
    "\n",
    "bar_2 = (\n",
    "    Bar()\n",
    "    .add_xaxis(discount_rate_x)\n",
    "    .add_yaxis('领取数量', discount_rate_y)\n",
    "    .set_global_opts(title_opts={'text': '优惠券折扣情况'})\n",
    "    .set_series_opts(opts.LabelOpts(is_show=True))\n",
    ")\n",
    "\n",
    "bar_2.render('C:\\\\Users\\\\李昌峻\\\\Desktop\\\\绘图\\\\课后作业五\\\\bar_2.html')\n"
   ]
  },
  {
   "cell_type": "markdown",
   "id": "159cdfa9fdebef4c",
   "metadata": {},
   "source": [
    "### 下面分析商家距离"
   ]
  },
  {
   "cell_type": "code",
   "execution_count": 88,
   "id": "166e20178b9e927d",
   "metadata": {
    "ExecuteTime": {
     "end_time": "2024-01-29T11:54:00.412185800Z",
     "start_time": "2024-01-29T11:54:00.362311500Z"
    }
   },
   "outputs": [
    {
     "data": {
      "text/plain": [
       "Distance\n",
       "0     43867\n",
       "1     18474\n",
       "2      9523\n",
       "3      5934\n",
       "4      4006\n",
       "5      2977\n",
       "6      2179\n",
       "7      1685\n",
       "8      1359\n",
       "9      1219\n",
       "10    10353\n",
       "Name: count, dtype: int64"
      ]
     },
     "execution_count": 88,
     "metadata": {},
     "output_type": "execute_result"
    }
   ],
   "source": [
    "dis = offline[offline['Distance'] != -1]['Distance'].value_counts()\n",
    "dis.sort_index(inplace=True)\n",
    "dis"
   ]
  },
  {
   "cell_type": "code",
   "execution_count": 97,
   "id": "c6869ce705ec5e40",
   "metadata": {
    "ExecuteTime": {
     "end_time": "2024-01-29T11:56:15.377113400Z",
     "start_time": "2024-01-29T11:56:15.361230Z"
    }
   },
   "outputs": [
    {
     "data": {
      "text/plain": [
       "'C:\\\\Users\\\\李昌峻\\\\Desktop\\\\绘图\\\\课后作业五\\\\bar_3.html'"
      ]
     },
     "execution_count": 97,
     "metadata": {},
     "output_type": "execute_result"
    }
   ],
   "source": [
    "# 绘图\n",
    "bar_3 = (\n",
    "        Bar()\n",
    "        .add_xaxis([str(x) for x in range(0, 11)])\n",
    "        .add_yaxis('消费距离', list(dis))\n",
    "        .set_global_opts(title_opts={'text': '卖家和买家距离条形图'})\n",
    "        .set_series_opts(\n",
    "            opts.LabelOpts(is_show=False)  # 显示值大小\n",
    "    )\n",
    ")\n",
    "bar_3.render('C:\\\\Users\\\\李昌峻\\\\Desktop\\\\绘图\\\\课后作业五\\\\bar_3.html')"
   ]
  },
  {
   "cell_type": "markdown",
   "id": "dc8665c43371d97",
   "metadata": {},
   "source": [
    "优惠券占比图"
   ]
  },
  {
   "cell_type": "code",
   "execution_count": 100,
   "id": "cc2ce14ed00838e8",
   "metadata": {
    "ExecuteTime": {
     "end_time": "2024-01-29T12:12:02.385508600Z",
     "start_time": "2024-01-29T12:12:02.338871200Z"
    }
   },
   "outputs": [
    {
     "data": {
      "text/plain": [
       "'C:\\\\Users\\\\李昌峻\\\\Desktop\\\\绘图\\\\课后作业五\\\\pie_1.html'"
      ]
     },
     "execution_count": 100,
     "metadata": {},
     "output_type": "execute_result"
    }
   ],
   "source": [
    "v1 = ['折扣', '满减']\n",
    "v2 = list(offline[offline['Date_received'].notna()]['is_manjian'].value_counts())\n",
    "pie_1 = (\n",
    "    Pie()\n",
    "    .add('', [list(v) for v in zip(v1, v2)])\n",
    "    .set_global_opts(title_opts={'text': '各类优惠券数量占比饼图'})\n",
    "    .set_series_opts(label_opts=opts.LabelOpts(formatter='{b}: {c}'))\n",
    "    )\n",
    "pie_1.render('C:\\\\Users\\\\李昌峻\\\\Desktop\\\\绘图\\\\课后作业五\\\\pie_1.html')"
   ]
  }
 ],
 "metadata": {
  "kernelspec": {
   "display_name": "Python 3 (ipykernel)",
   "language": "python",
   "name": "python3"
  },
  "language_info": {
   "codemirror_mode": {
    "name": "ipython",
    "version": 3
   },
   "file_extension": ".py",
   "mimetype": "text/x-python",
   "name": "python",
   "nbconvert_exporter": "python",
   "pygments_lexer": "ipython3",
   "version": "3.11.5"
  }
 },
 "nbformat": 4,
 "nbformat_minor": 5
}
